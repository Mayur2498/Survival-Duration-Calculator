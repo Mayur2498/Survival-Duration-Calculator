{
  "nbformat": 4,
  "nbformat_minor": 0,
  "metadata": {
    "colab": {
      "provenance": [],
      "authorship_tag": "ABX9TyPxs2pUObq2MJO5HvX4ofwq",
      "include_colab_link": true
    },
    "kernelspec": {
      "name": "python3",
      "display_name": "Python 3"
    },
    "language_info": {
      "name": "python"
    }
  },
  "cells": [
    {
      "cell_type": "markdown",
      "metadata": {
        "id": "view-in-github",
        "colab_type": "text"
      },
      "source": [
        "<a href=\"https://colab.research.google.com/github/Mayur2498/Survival-Duration-Calculator/blob/main/Copy_of_Age_Survival.ipynb\" target=\"_parent\"><img src=\"https://colab.research.google.com/assets/colab-badge.svg\" alt=\"Open In Colab\"/></a>"
      ]
    },
    {
      "cell_type": "code",
      "execution_count": 6,
      "metadata": {
        "colab": {
          "base_uri": "https://localhost:8080/"
        },
        "id": "aqTF0UCJEISc",
        "outputId": "61b2e4c3-dc3f-49b8-c945-89d357e6be37"
      },
      "outputs": [
        {
          "output_type": "stream",
          "name": "stdout",
          "text": [
            "What is Your Age ? 10\n",
            "\n",
            "        Please choose time unit:\n",
            "        1.Months\n",
            "        2.Weeks\n",
            "        3.Days\n",
            "        4.Hours\n",
            "        5.Minutes\n",
            "        6.Seconds\n",
            "\n",
            "        Enter your choice :  \n",
            "        1\n",
            "You lived for 120 Months\n"
          ]
        }
      ],
      "source": [
        "# Calculate_life_duration_in_years\n",
        "Months_per_year = 12\n",
        "Weeks_per_year = 52\n",
        "Days_per_year = 365\n",
        "Hours_per_year = 8760\n",
        "Minutes_per_year = 525600\n",
        "Hours_per_day = 24\n",
        "Minutes_per_day = 1440\n",
        "Minutes_per_hour = 60\n",
        "Seconds_per_day = 86400\n",
        "Seconds_per_hour = 3600\n",
        "\n",
        "# Define the age in years\n",
        "age_years = int(input(\"What is Your Age ? \"))  # Taking age from the user\n",
        "\n",
        "# Initialize the flag variable, assuming you want to enter the loop\n",
        "flag = True\n",
        "\n",
        "if flag:\n",
        "    while True:\n",
        "        o = input(\"\"\"\n",
        "        Please choose time unit:\n",
        "        1.Months\n",
        "        2.Weeks\n",
        "        3.Days\n",
        "        4.Hours\n",
        "        5.Minutes\n",
        "        6.Seconds\n",
        "\n",
        "        Enter your choice :\n",
        "        \"\"\")\n",
        "        # For Calculation\n",
        "        Months = age_years * Months_per_year # Multiply age in years by number of months in a year\n",
        "        Weeks = age_years * Weeks_per_year\n",
        "        Days = age_years * Days_per_year\n",
        "        Hours = Days * Hours_per_day\n",
        "        Minutes = Hours * Minutes_per_hour\n",
        "        Seconds = Minutes * Seconds_per_hour  # Use Seconds_per_hour instead of seconds_per_minute\n",
        "        if o == '1':\n",
        "            print(\"You lived for\", Months, \"Months\")\n",
        "        elif o == '2':\n",
        "            print(\"You lived for\", Weeks, \"Weeks\")\n",
        "        elif o=='3':\n",
        "            print(\"You lived for\", Days, \"Days"\")\n",
        "        elif o=='4':\n",
        "            print(\"You lived for\", Hours,\"Hours\")\n",
        "        elif o=='5':\n",
        "            print(\"You lived for\", Minutes,\"Minutes\")\n",
        "        elif o=='6':\n",
        "            print(\"You lived for\", Seconds,\"Seconds\")\n",
        "        else:\n",
        "            print(\"Invalid choice. Please choose a valid option.\")\n",
        "            continue # Continue to the next it\n",
        "        break # Move the break statement"
      ]
    }
  ]
}
